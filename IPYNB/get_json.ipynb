{
 "cells": [
  {
   "cell_type": "markdown",
   "metadata": {},
   "source": [
    "# Importação de bibliotecas"
   ]
  },
  {
   "cell_type": "markdown",
   "metadata": {},
   "source": [
    "* Requests\n",
    "    * Realizar solicitações para o servidor HTTPS\n",
    "* Pandas\n",
    "    * Carregar os arquivos\n",
    "    * Manipular os DataFrames\n",
    "    * Armazenar arquivos\n",
    "* JSON\n",
    "    * Manipular arquivos do formato JSON"
   ]
  },
  {
   "cell_type": "code",
   "execution_count": 1,
   "metadata": {},
   "outputs": [],
   "source": [
    "import requests\n",
    "import pandas as pd\n",
    "import json"
   ]
  },
  {
   "cell_type": "markdown",
   "metadata": {},
   "source": [
    "------"
   ]
  },
  {
   "cell_type": "markdown",
   "metadata": {},
   "source": [
    "# Requests"
   ]
  },
  {
   "cell_type": "code",
   "execution_count": 408,
   "metadata": {},
   "outputs": [],
   "source": [
    "response_event = requests.get('http://museus.cultura.gov.br/api/event/find?@select=id,name,shortDescription,classificacaoEtaria,occurrences.rule')\n",
    "response_space = requests.get('http://museus.cultura.gov.br/api/space/find/?@select=id,location,name')"
   ]
  },
  {
   "cell_type": "markdown",
   "metadata": {},
   "source": [
    "# Ajustando estrutura"
   ]
  },
  {
   "cell_type": "markdown",
   "metadata": {},
   "source": [
    "## Event"
   ]
  },
  {
   "cell_type": "code",
   "execution_count": null,
   "metadata": {},
   "outputs": [],
   "source": [
    "df_event  = pd.json_normalize(response_event.json())\n",
    "occurrences = df_event[['occurrences']]\n",
    "df_event = df_event[['id', 'name', 'shortDescription', 'classificacaoEtaria']]\n",
    "\n",
    "for j in occurrences.index:\n",
    "    try:\n",
    "        occurrences['occurrences'][j] = occurrences['occurrences'][j][0]\n",
    "    except(IndexError):\n",
    "        occurrences['occurrences'][j] = {}\n",
    "\n",
    "occurrences = pd.json_normalize(occurrences['occurrences'])\n",
    "\n",
    "df_event.rename(columns={'id':'id_event'}, inplace=True)\n",
    "df_event = pd.concat([df_event, occurrences], axis = 'columns')\n",
    "df_event.drop(columns=['rule.description', 'rule.day.2', 'rule.day.3','rule.day.4', 'rule.day.0', 'rule.day.5', 'rule.day.6', 'rule.day','rule.day.1', 'id'], inplace=True)"
   ]
  },
  {
   "cell_type": "markdown",
   "metadata": {},
   "source": [
    "## Space"
   ]
  },
  {
   "cell_type": "code",
   "execution_count": 459,
   "metadata": {},
   "outputs": [],
   "source": [
    "df_space = pd.json_normalize(response_space.json())\n",
    "df_space.drop(columns = ['Formulário de Visitação Anual - 2015',\n",
    "       'Formulário de Visitação Anual - 2016',\n",
    "       'Formulário de Visitação Anual - 2017',\n",
    "       'Formulário de Visitação Anual - 2018', \n",
    "       'Registro de Museus', 'Formulário de Visitação Anual - 2014',\n",
    "       'Museu Cadastrado'], inplace=True, errors='ignore')\n"
   ]
  },
  {
   "cell_type": "markdown",
   "metadata": {},
   "source": [
    "# Salvando arquivo em JSON"
   ]
  },
  {
   "cell_type": "code",
   "execution_count": 461,
   "metadata": {},
   "outputs": [],
   "source": [
    "df_event.reset_index().to_json(r'C:\\Users\\******\\files_json\\event.json', orient='records')\n",
    "df_space.reset_index().to_json(r'C:\\Users\\******\\files_json\\space.json', orient='records')"
   ]
  }
 ],
 "metadata": {
  "interpreter": {
   "hash": "369f2c481f4da34e4445cda3fffd2e751bd1c4d706f27375911949ba6bb62e1c"
  },
  "kernelspec": {
   "display_name": "Python 3.10.0 64-bit",
   "language": "python",
   "name": "python3"
  },
  "language_info": {
   "codemirror_mode": {
    "name": "ipython",
    "version": 3
   },
   "file_extension": ".py",
   "mimetype": "text/x-python",
   "name": "python",
   "nbconvert_exporter": "python",
   "pygments_lexer": "ipython3",
   "version": "3.10.0"
  },
  "orig_nbformat": 4
 },
 "nbformat": 4,
 "nbformat_minor": 2
}
